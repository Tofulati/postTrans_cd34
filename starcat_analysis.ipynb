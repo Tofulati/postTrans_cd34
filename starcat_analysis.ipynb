{
 "cells": [
  {
   "cell_type": "code",
   "execution_count": 1,
   "metadata": {
    "vscode": {
     "languageId": "r"
    }
   },
   "outputs": [
    {
     "name": "stderr",
     "output_type": "stream",
     "text": [
      "Warning message:\n",
      "\"package 'ggplot2' was built under R version 4.4.2\"\n",
      "Warning message:\n",
      "\"package 'tibble' was built under R version 4.4.2\"\n",
      "Warning message:\n",
      "\"package 'tidyr' was built under R version 4.4.2\"\n",
      "Warning message:\n",
      "\"package 'dplyr' was built under R version 4.4.2\"\n",
      "Warning message:\n",
      "\"package 'data.table' was built under R version 4.4.2\"\n"
     ]
    }
   ],
   "source": [
    "suppressPackageStartupMessages({\n",
    "    library(tidyverse)\n",
    "    library(data.table)\n",
    "    library(Matrix)\n",
    "    library(Seurat)\n",
    "    library(R.utils)\n",
    "})"
   ]
  },
  {
   "cell_type": "markdown",
   "metadata": {},
   "source": [
    "Read in the data"
   ]
  },
  {
   "cell_type": "code",
   "execution_count": 2,
   "metadata": {
    "vscode": {
     "languageId": "r"
    }
   },
   "outputs": [
    {
     "data": {
      "text/plain": [
       "An object of class Seurat \n",
       "36601 features across 24606 samples within 1 assay \n",
       "Active assay: RNA (36601 features, 2000 variable features)\n",
       " 3 layers present: data, counts, scale.data\n",
       " 3 dimensional reductions calculated: pca, umap, integrated.harmony"
      ]
     },
     "metadata": {},
     "output_type": "display_data"
    }
   ],
   "source": [
    "postTrans_data <- readRDS(file = \"Data/seu.integrated.resolution_search.rds\")\n",
    "postTrans_data"
   ]
  },
  {
   "cell_type": "code",
   "execution_count": 4,
   "metadata": {
    "vscode": {
     "languageId": "r"
    }
   },
   "outputs": [
    {
     "data": {
      "text/html": [
       "<table class=\"dataframe\">\n",
       "<caption>A data.frame: 10 × 47</caption>\n",
       "<thead>\n",
       "\t<tr><th></th><th scope=col>orig.ident</th><th scope=col>nCount_RNA</th><th scope=col>nFeature_RNA</th><th scope=col>percent.mt</th><th scope=col>sample</th><th scope=col>barcode</th><th scope=col>CD34_subsample</th><th scope=col>CD34</th><th scope=col>nCount_HTO</th><th scope=col>nFeature_HTO</th><th scope=col>⋯</th><th scope=col>seurat_clusters_resolution_0.1</th><th scope=col>seurat_clusters_resolution_0.2</th><th scope=col>seurat_clusters_resolution_0.3</th><th scope=col>seurat_clusters_resolution_0.4</th><th scope=col>seurat_clusters_resolution_0.5</th><th scope=col>seurat_clusters_resolution_0.6</th><th scope=col>seurat_clusters_resolution_0.7</th><th scope=col>seurat_clusters_resolution_0.8</th><th scope=col>seurat_clusters_resolution_0.9</th><th scope=col>seurat_clusters_resolution_1</th></tr>\n",
       "\t<tr><th></th><th scope=col>&lt;chr&gt;</th><th scope=col>&lt;dbl&gt;</th><th scope=col>&lt;int&gt;</th><th scope=col>&lt;dbl&gt;</th><th scope=col>&lt;chr&gt;</th><th scope=col>&lt;chr&gt;</th><th scope=col>&lt;chr&gt;</th><th scope=col>&lt;chr&gt;</th><th scope=col>&lt;dbl&gt;</th><th scope=col>&lt;int&gt;</th><th scope=col>⋯</th><th scope=col>&lt;fct&gt;</th><th scope=col>&lt;fct&gt;</th><th scope=col>&lt;fct&gt;</th><th scope=col>&lt;fct&gt;</th><th scope=col>&lt;fct&gt;</th><th scope=col>&lt;fct&gt;</th><th scope=col>&lt;fct&gt;</th><th scope=col>&lt;fct&gt;</th><th scope=col>&lt;fct&gt;</th><th scope=col>&lt;fct&gt;</th></tr>\n",
       "</thead>\n",
       "<tbody>\n",
       "\t<tr><th scope=row>A_AAACGCTTCACTTGTT_A_pos</th><td>BMT_A</td><td>29477</td><td>6684</td><td>2.337416</td><td>A</td><td>AAACGCTTCACTTGTT_A_pos</td><td>pos</td><td>pos</td><td>12.98252</td><td>7</td><td>⋯</td><td>1</td><td>4</td><td>4</td><td>4</td><td>4 </td><td>4 </td><td>3 </td><td>4 </td><td>4</td><td>4</td></tr>\n",
       "\t<tr><th scope=row>A_AAAGGATCAATGCAGG_A_pos</th><td>BMT_A</td><td>43334</td><td>7226</td><td>5.169151</td><td>A</td><td>AAAGGATCAATGCAGG_A_pos</td><td>pos</td><td>pos</td><td>15.07064</td><td>7</td><td>⋯</td><td>3</td><td>5</td><td>5</td><td>5</td><td>8 </td><td>8 </td><td>9 </td><td>12</td><td>8</td><td>9</td></tr>\n",
       "\t<tr><th scope=row>A_AAAGGATGTGCGAGTA_A_pos</th><td>BMT_A</td><td>46221</td><td>7362</td><td>4.013327</td><td>A</td><td>AAAGGATGTGCGAGTA_A_pos</td><td>pos</td><td>pos</td><td>15.09084</td><td>7</td><td>⋯</td><td>1</td><td>4</td><td>4</td><td>4</td><td>4 </td><td>4 </td><td>3 </td><td>4 </td><td>4</td><td>4</td></tr>\n",
       "\t<tr><th scope=row>A_AAAGGATTCACTGATG_A_pos</th><td>BMT_A</td><td>25484</td><td>4623</td><td>7.243761</td><td>A</td><td>AAAGGATTCACTGATG_A_pos</td><td>pos</td><td>pos</td><td>15.47098</td><td>7</td><td>⋯</td><td>3</td><td>5</td><td>5</td><td>5</td><td>5 </td><td>5 </td><td>4 </td><td>3 </td><td>3</td><td>2</td></tr>\n",
       "\t<tr><th scope=row>A_AAAGGGCCACCCTCTA_A_pos</th><td>BMT_A</td><td>28699</td><td>6420</td><td>2.871180</td><td>A</td><td>AAAGGGCCACCCTCTA_A_pos</td><td>pos</td><td>pos</td><td>13.40386</td><td>7</td><td>⋯</td><td>4</td><td>6</td><td>7</td><td>7</td><td>6 </td><td>6 </td><td>6 </td><td>7 </td><td>6</td><td>7</td></tr>\n",
       "\t<tr><th scope=row>A_AAAGGTAGTCGCATCG_A_pos</th><td>BMT_A</td><td>20363</td><td>4041</td><td>4.262633</td><td>A</td><td>AAAGGTAGTCGCATCG_A_pos</td><td>pos</td><td>pos</td><td>13.97667</td><td>7</td><td>⋯</td><td>1</td><td>2</td><td>2</td><td>2</td><td>3 </td><td>2 </td><td>2 </td><td>6 </td><td>5</td><td>5</td></tr>\n",
       "\t<tr><th scope=row>A_AAAGGTATCATTGTGG_A_pos</th><td>BMT_A</td><td>31372</td><td>6826</td><td>6.802244</td><td>A</td><td>AAAGGTATCATTGTGG_A_pos</td><td>pos</td><td>pos</td><td>14.06007</td><td>7</td><td>⋯</td><td>1</td><td>4</td><td>2</td><td>4</td><td>3 </td><td>2 </td><td>2 </td><td>4 </td><td>4</td><td>4</td></tr>\n",
       "\t<tr><th scope=row>A_AAAGGTATCCGAGGCT_A_pos</th><td>BMT_A</td><td>31802</td><td>5299</td><td>6.716559</td><td>A</td><td>AAAGGTATCCGAGGCT_A_pos</td><td>pos</td><td>pos</td><td>13.56754</td><td>7</td><td>⋯</td><td>0</td><td>1</td><td>1</td><td>0</td><td>14</td><td>15</td><td>18</td><td>10</td><td>7</td><td>8</td></tr>\n",
       "\t<tr><th scope=row>A_AAAGGTATCGGTCACG_A_pos</th><td>BMT_A</td><td>48519</td><td>7748</td><td>6.618026</td><td>A</td><td>AAAGGTATCGGTCACG_A_pos</td><td>pos</td><td>pos</td><td>13.91961</td><td>7</td><td>⋯</td><td>0</td><td>1</td><td>1</td><td>0</td><td>0 </td><td>0 </td><td>0 </td><td>1 </td><td>2</td><td>8</td></tr>\n",
       "\t<tr><th scope=row>A_AAAGGTATCTCGCAGG_A_pos</th><td>BMT_A</td><td>14838</td><td>3548</td><td>4.960237</td><td>A</td><td>AAAGGTATCTCGCAGG_A_pos</td><td>pos</td><td>pos</td><td>14.14402</td><td>7</td><td>⋯</td><td>1</td><td>2</td><td>2</td><td>2</td><td>3 </td><td>2 </td><td>2 </td><td>6 </td><td>5</td><td>5</td></tr>\n",
       "</tbody>\n",
       "</table>\n"
      ],
      "text/latex": [
       "A data.frame: 10 × 47\n",
       "\\begin{tabular}{r|lllllllllllllllllllll}\n",
       "  & orig.ident & nCount\\_RNA & nFeature\\_RNA & percent.mt & sample & barcode & CD34\\_subsample & CD34 & nCount\\_HTO & nFeature\\_HTO & ⋯ & seurat\\_clusters\\_resolution\\_0.1 & seurat\\_clusters\\_resolution\\_0.2 & seurat\\_clusters\\_resolution\\_0.3 & seurat\\_clusters\\_resolution\\_0.4 & seurat\\_clusters\\_resolution\\_0.5 & seurat\\_clusters\\_resolution\\_0.6 & seurat\\_clusters\\_resolution\\_0.7 & seurat\\_clusters\\_resolution\\_0.8 & seurat\\_clusters\\_resolution\\_0.9 & seurat\\_clusters\\_resolution\\_1\\\\\n",
       "  & <chr> & <dbl> & <int> & <dbl> & <chr> & <chr> & <chr> & <chr> & <dbl> & <int> & ⋯ & <fct> & <fct> & <fct> & <fct> & <fct> & <fct> & <fct> & <fct> & <fct> & <fct>\\\\\n",
       "\\hline\n",
       "\tA\\_AAACGCTTCACTTGTT\\_A\\_pos & BMT\\_A & 29477 & 6684 & 2.337416 & A & AAACGCTTCACTTGTT\\_A\\_pos & pos & pos & 12.98252 & 7 & ⋯ & 1 & 4 & 4 & 4 & 4  & 4  & 3  & 4  & 4 & 4\\\\\n",
       "\tA\\_AAAGGATCAATGCAGG\\_A\\_pos & BMT\\_A & 43334 & 7226 & 5.169151 & A & AAAGGATCAATGCAGG\\_A\\_pos & pos & pos & 15.07064 & 7 & ⋯ & 3 & 5 & 5 & 5 & 8  & 8  & 9  & 12 & 8 & 9\\\\\n",
       "\tA\\_AAAGGATGTGCGAGTA\\_A\\_pos & BMT\\_A & 46221 & 7362 & 4.013327 & A & AAAGGATGTGCGAGTA\\_A\\_pos & pos & pos & 15.09084 & 7 & ⋯ & 1 & 4 & 4 & 4 & 4  & 4  & 3  & 4  & 4 & 4\\\\\n",
       "\tA\\_AAAGGATTCACTGATG\\_A\\_pos & BMT\\_A & 25484 & 4623 & 7.243761 & A & AAAGGATTCACTGATG\\_A\\_pos & pos & pos & 15.47098 & 7 & ⋯ & 3 & 5 & 5 & 5 & 5  & 5  & 4  & 3  & 3 & 2\\\\\n",
       "\tA\\_AAAGGGCCACCCTCTA\\_A\\_pos & BMT\\_A & 28699 & 6420 & 2.871180 & A & AAAGGGCCACCCTCTA\\_A\\_pos & pos & pos & 13.40386 & 7 & ⋯ & 4 & 6 & 7 & 7 & 6  & 6  & 6  & 7  & 6 & 7\\\\\n",
       "\tA\\_AAAGGTAGTCGCATCG\\_A\\_pos & BMT\\_A & 20363 & 4041 & 4.262633 & A & AAAGGTAGTCGCATCG\\_A\\_pos & pos & pos & 13.97667 & 7 & ⋯ & 1 & 2 & 2 & 2 & 3  & 2  & 2  & 6  & 5 & 5\\\\\n",
       "\tA\\_AAAGGTATCATTGTGG\\_A\\_pos & BMT\\_A & 31372 & 6826 & 6.802244 & A & AAAGGTATCATTGTGG\\_A\\_pos & pos & pos & 14.06007 & 7 & ⋯ & 1 & 4 & 2 & 4 & 3  & 2  & 2  & 4  & 4 & 4\\\\\n",
       "\tA\\_AAAGGTATCCGAGGCT\\_A\\_pos & BMT\\_A & 31802 & 5299 & 6.716559 & A & AAAGGTATCCGAGGCT\\_A\\_pos & pos & pos & 13.56754 & 7 & ⋯ & 0 & 1 & 1 & 0 & 14 & 15 & 18 & 10 & 7 & 8\\\\\n",
       "\tA\\_AAAGGTATCGGTCACG\\_A\\_pos & BMT\\_A & 48519 & 7748 & 6.618026 & A & AAAGGTATCGGTCACG\\_A\\_pos & pos & pos & 13.91961 & 7 & ⋯ & 0 & 1 & 1 & 0 & 0  & 0  & 0  & 1  & 2 & 8\\\\\n",
       "\tA\\_AAAGGTATCTCGCAGG\\_A\\_pos & BMT\\_A & 14838 & 3548 & 4.960237 & A & AAAGGTATCTCGCAGG\\_A\\_pos & pos & pos & 14.14402 & 7 & ⋯ & 1 & 2 & 2 & 2 & 3  & 2  & 2  & 6  & 5 & 5\\\\\n",
       "\\end{tabular}\n"
      ],
      "text/markdown": [
       "\n",
       "A data.frame: 10 × 47\n",
       "\n",
       "| <!--/--> | orig.ident &lt;chr&gt; | nCount_RNA &lt;dbl&gt; | nFeature_RNA &lt;int&gt; | percent.mt &lt;dbl&gt; | sample &lt;chr&gt; | barcode &lt;chr&gt; | CD34_subsample &lt;chr&gt; | CD34 &lt;chr&gt; | nCount_HTO &lt;dbl&gt; | nFeature_HTO &lt;int&gt; | ⋯ ⋯ | seurat_clusters_resolution_0.1 &lt;fct&gt; | seurat_clusters_resolution_0.2 &lt;fct&gt; | seurat_clusters_resolution_0.3 &lt;fct&gt; | seurat_clusters_resolution_0.4 &lt;fct&gt; | seurat_clusters_resolution_0.5 &lt;fct&gt; | seurat_clusters_resolution_0.6 &lt;fct&gt; | seurat_clusters_resolution_0.7 &lt;fct&gt; | seurat_clusters_resolution_0.8 &lt;fct&gt; | seurat_clusters_resolution_0.9 &lt;fct&gt; | seurat_clusters_resolution_1 &lt;fct&gt; |\n",
       "|---|---|---|---|---|---|---|---|---|---|---|---|---|---|---|---|---|---|---|---|---|---|\n",
       "| A_AAACGCTTCACTTGTT_A_pos | BMT_A | 29477 | 6684 | 2.337416 | A | AAACGCTTCACTTGTT_A_pos | pos | pos | 12.98252 | 7 | ⋯ | 1 | 4 | 4 | 4 | 4  | 4  | 3  | 4  | 4 | 4 |\n",
       "| A_AAAGGATCAATGCAGG_A_pos | BMT_A | 43334 | 7226 | 5.169151 | A | AAAGGATCAATGCAGG_A_pos | pos | pos | 15.07064 | 7 | ⋯ | 3 | 5 | 5 | 5 | 8  | 8  | 9  | 12 | 8 | 9 |\n",
       "| A_AAAGGATGTGCGAGTA_A_pos | BMT_A | 46221 | 7362 | 4.013327 | A | AAAGGATGTGCGAGTA_A_pos | pos | pos | 15.09084 | 7 | ⋯ | 1 | 4 | 4 | 4 | 4  | 4  | 3  | 4  | 4 | 4 |\n",
       "| A_AAAGGATTCACTGATG_A_pos | BMT_A | 25484 | 4623 | 7.243761 | A | AAAGGATTCACTGATG_A_pos | pos | pos | 15.47098 | 7 | ⋯ | 3 | 5 | 5 | 5 | 5  | 5  | 4  | 3  | 3 | 2 |\n",
       "| A_AAAGGGCCACCCTCTA_A_pos | BMT_A | 28699 | 6420 | 2.871180 | A | AAAGGGCCACCCTCTA_A_pos | pos | pos | 13.40386 | 7 | ⋯ | 4 | 6 | 7 | 7 | 6  | 6  | 6  | 7  | 6 | 7 |\n",
       "| A_AAAGGTAGTCGCATCG_A_pos | BMT_A | 20363 | 4041 | 4.262633 | A | AAAGGTAGTCGCATCG_A_pos | pos | pos | 13.97667 | 7 | ⋯ | 1 | 2 | 2 | 2 | 3  | 2  | 2  | 6  | 5 | 5 |\n",
       "| A_AAAGGTATCATTGTGG_A_pos | BMT_A | 31372 | 6826 | 6.802244 | A | AAAGGTATCATTGTGG_A_pos | pos | pos | 14.06007 | 7 | ⋯ | 1 | 4 | 2 | 4 | 3  | 2  | 2  | 4  | 4 | 4 |\n",
       "| A_AAAGGTATCCGAGGCT_A_pos | BMT_A | 31802 | 5299 | 6.716559 | A | AAAGGTATCCGAGGCT_A_pos | pos | pos | 13.56754 | 7 | ⋯ | 0 | 1 | 1 | 0 | 14 | 15 | 18 | 10 | 7 | 8 |\n",
       "| A_AAAGGTATCGGTCACG_A_pos | BMT_A | 48519 | 7748 | 6.618026 | A | AAAGGTATCGGTCACG_A_pos | pos | pos | 13.91961 | 7 | ⋯ | 0 | 1 | 1 | 0 | 0  | 0  | 0  | 1  | 2 | 8 |\n",
       "| A_AAAGGTATCTCGCAGG_A_pos | BMT_A | 14838 | 3548 | 4.960237 | A | AAAGGTATCTCGCAGG_A_pos | pos | pos | 14.14402 | 7 | ⋯ | 1 | 2 | 2 | 2 | 3  | 2  | 2  | 6  | 5 | 5 |\n",
       "\n"
      ],
      "text/plain": [
       "                         orig.ident nCount_RNA nFeature_RNA percent.mt sample\n",
       "A_AAACGCTTCACTTGTT_A_pos BMT_A      29477      6684         2.337416   A     \n",
       "A_AAAGGATCAATGCAGG_A_pos BMT_A      43334      7226         5.169151   A     \n",
       "A_AAAGGATGTGCGAGTA_A_pos BMT_A      46221      7362         4.013327   A     \n",
       "A_AAAGGATTCACTGATG_A_pos BMT_A      25484      4623         7.243761   A     \n",
       "A_AAAGGGCCACCCTCTA_A_pos BMT_A      28699      6420         2.871180   A     \n",
       "A_AAAGGTAGTCGCATCG_A_pos BMT_A      20363      4041         4.262633   A     \n",
       "A_AAAGGTATCATTGTGG_A_pos BMT_A      31372      6826         6.802244   A     \n",
       "A_AAAGGTATCCGAGGCT_A_pos BMT_A      31802      5299         6.716559   A     \n",
       "A_AAAGGTATCGGTCACG_A_pos BMT_A      48519      7748         6.618026   A     \n",
       "A_AAAGGTATCTCGCAGG_A_pos BMT_A      14838      3548         4.960237   A     \n",
       "                         barcode                CD34_subsample CD34 nCount_HTO\n",
       "A_AAACGCTTCACTTGTT_A_pos AAACGCTTCACTTGTT_A_pos pos            pos  12.98252  \n",
       "A_AAAGGATCAATGCAGG_A_pos AAAGGATCAATGCAGG_A_pos pos            pos  15.07064  \n",
       "A_AAAGGATGTGCGAGTA_A_pos AAAGGATGTGCGAGTA_A_pos pos            pos  15.09084  \n",
       "A_AAAGGATTCACTGATG_A_pos AAAGGATTCACTGATG_A_pos pos            pos  15.47098  \n",
       "A_AAAGGGCCACCCTCTA_A_pos AAAGGGCCACCCTCTA_A_pos pos            pos  13.40386  \n",
       "A_AAAGGTAGTCGCATCG_A_pos AAAGGTAGTCGCATCG_A_pos pos            pos  13.97667  \n",
       "A_AAAGGTATCATTGTGG_A_pos AAAGGTATCATTGTGG_A_pos pos            pos  14.06007  \n",
       "A_AAAGGTATCCGAGGCT_A_pos AAAGGTATCCGAGGCT_A_pos pos            pos  13.56754  \n",
       "A_AAAGGTATCGGTCACG_A_pos AAAGGTATCGGTCACG_A_pos pos            pos  13.91961  \n",
       "A_AAAGGTATCTCGCAGG_A_pos AAAGGTATCTCGCAGG_A_pos pos            pos  14.14402  \n",
       "                         nFeature_HTO ⋯ seurat_clusters_resolution_0.1\n",
       "A_AAACGCTTCACTTGTT_A_pos 7            ⋯ 1                             \n",
       "A_AAAGGATCAATGCAGG_A_pos 7            ⋯ 3                             \n",
       "A_AAAGGATGTGCGAGTA_A_pos 7            ⋯ 1                             \n",
       "A_AAAGGATTCACTGATG_A_pos 7            ⋯ 3                             \n",
       "A_AAAGGGCCACCCTCTA_A_pos 7            ⋯ 4                             \n",
       "A_AAAGGTAGTCGCATCG_A_pos 7            ⋯ 1                             \n",
       "A_AAAGGTATCATTGTGG_A_pos 7            ⋯ 1                             \n",
       "A_AAAGGTATCCGAGGCT_A_pos 7            ⋯ 0                             \n",
       "A_AAAGGTATCGGTCACG_A_pos 7            ⋯ 0                             \n",
       "A_AAAGGTATCTCGCAGG_A_pos 7            ⋯ 1                             \n",
       "                         seurat_clusters_resolution_0.2\n",
       "A_AAACGCTTCACTTGTT_A_pos 4                             \n",
       "A_AAAGGATCAATGCAGG_A_pos 5                             \n",
       "A_AAAGGATGTGCGAGTA_A_pos 4                             \n",
       "A_AAAGGATTCACTGATG_A_pos 5                             \n",
       "A_AAAGGGCCACCCTCTA_A_pos 6                             \n",
       "A_AAAGGTAGTCGCATCG_A_pos 2                             \n",
       "A_AAAGGTATCATTGTGG_A_pos 4                             \n",
       "A_AAAGGTATCCGAGGCT_A_pos 1                             \n",
       "A_AAAGGTATCGGTCACG_A_pos 1                             \n",
       "A_AAAGGTATCTCGCAGG_A_pos 2                             \n",
       "                         seurat_clusters_resolution_0.3\n",
       "A_AAACGCTTCACTTGTT_A_pos 4                             \n",
       "A_AAAGGATCAATGCAGG_A_pos 5                             \n",
       "A_AAAGGATGTGCGAGTA_A_pos 4                             \n",
       "A_AAAGGATTCACTGATG_A_pos 5                             \n",
       "A_AAAGGGCCACCCTCTA_A_pos 7                             \n",
       "A_AAAGGTAGTCGCATCG_A_pos 2                             \n",
       "A_AAAGGTATCATTGTGG_A_pos 2                             \n",
       "A_AAAGGTATCCGAGGCT_A_pos 1                             \n",
       "A_AAAGGTATCGGTCACG_A_pos 1                             \n",
       "A_AAAGGTATCTCGCAGG_A_pos 2                             \n",
       "                         seurat_clusters_resolution_0.4\n",
       "A_AAACGCTTCACTTGTT_A_pos 4                             \n",
       "A_AAAGGATCAATGCAGG_A_pos 5                             \n",
       "A_AAAGGATGTGCGAGTA_A_pos 4                             \n",
       "A_AAAGGATTCACTGATG_A_pos 5                             \n",
       "A_AAAGGGCCACCCTCTA_A_pos 7                             \n",
       "A_AAAGGTAGTCGCATCG_A_pos 2                             \n",
       "A_AAAGGTATCATTGTGG_A_pos 4                             \n",
       "A_AAAGGTATCCGAGGCT_A_pos 0                             \n",
       "A_AAAGGTATCGGTCACG_A_pos 0                             \n",
       "A_AAAGGTATCTCGCAGG_A_pos 2                             \n",
       "                         seurat_clusters_resolution_0.5\n",
       "A_AAACGCTTCACTTGTT_A_pos 4                             \n",
       "A_AAAGGATCAATGCAGG_A_pos 8                             \n",
       "A_AAAGGATGTGCGAGTA_A_pos 4                             \n",
       "A_AAAGGATTCACTGATG_A_pos 5                             \n",
       "A_AAAGGGCCACCCTCTA_A_pos 6                             \n",
       "A_AAAGGTAGTCGCATCG_A_pos 3                             \n",
       "A_AAAGGTATCATTGTGG_A_pos 3                             \n",
       "A_AAAGGTATCCGAGGCT_A_pos 14                            \n",
       "A_AAAGGTATCGGTCACG_A_pos 0                             \n",
       "A_AAAGGTATCTCGCAGG_A_pos 3                             \n",
       "                         seurat_clusters_resolution_0.6\n",
       "A_AAACGCTTCACTTGTT_A_pos 4                             \n",
       "A_AAAGGATCAATGCAGG_A_pos 8                             \n",
       "A_AAAGGATGTGCGAGTA_A_pos 4                             \n",
       "A_AAAGGATTCACTGATG_A_pos 5                             \n",
       "A_AAAGGGCCACCCTCTA_A_pos 6                             \n",
       "A_AAAGGTAGTCGCATCG_A_pos 2                             \n",
       "A_AAAGGTATCATTGTGG_A_pos 2                             \n",
       "A_AAAGGTATCCGAGGCT_A_pos 15                            \n",
       "A_AAAGGTATCGGTCACG_A_pos 0                             \n",
       "A_AAAGGTATCTCGCAGG_A_pos 2                             \n",
       "                         seurat_clusters_resolution_0.7\n",
       "A_AAACGCTTCACTTGTT_A_pos 3                             \n",
       "A_AAAGGATCAATGCAGG_A_pos 9                             \n",
       "A_AAAGGATGTGCGAGTA_A_pos 3                             \n",
       "A_AAAGGATTCACTGATG_A_pos 4                             \n",
       "A_AAAGGGCCACCCTCTA_A_pos 6                             \n",
       "A_AAAGGTAGTCGCATCG_A_pos 2                             \n",
       "A_AAAGGTATCATTGTGG_A_pos 2                             \n",
       "A_AAAGGTATCCGAGGCT_A_pos 18                            \n",
       "A_AAAGGTATCGGTCACG_A_pos 0                             \n",
       "A_AAAGGTATCTCGCAGG_A_pos 2                             \n",
       "                         seurat_clusters_resolution_0.8\n",
       "A_AAACGCTTCACTTGTT_A_pos 4                             \n",
       "A_AAAGGATCAATGCAGG_A_pos 12                            \n",
       "A_AAAGGATGTGCGAGTA_A_pos 4                             \n",
       "A_AAAGGATTCACTGATG_A_pos 3                             \n",
       "A_AAAGGGCCACCCTCTA_A_pos 7                             \n",
       "A_AAAGGTAGTCGCATCG_A_pos 6                             \n",
       "A_AAAGGTATCATTGTGG_A_pos 4                             \n",
       "A_AAAGGTATCCGAGGCT_A_pos 10                            \n",
       "A_AAAGGTATCGGTCACG_A_pos 1                             \n",
       "A_AAAGGTATCTCGCAGG_A_pos 6                             \n",
       "                         seurat_clusters_resolution_0.9\n",
       "A_AAACGCTTCACTTGTT_A_pos 4                             \n",
       "A_AAAGGATCAATGCAGG_A_pos 8                             \n",
       "A_AAAGGATGTGCGAGTA_A_pos 4                             \n",
       "A_AAAGGATTCACTGATG_A_pos 3                             \n",
       "A_AAAGGGCCACCCTCTA_A_pos 6                             \n",
       "A_AAAGGTAGTCGCATCG_A_pos 5                             \n",
       "A_AAAGGTATCATTGTGG_A_pos 4                             \n",
       "A_AAAGGTATCCGAGGCT_A_pos 7                             \n",
       "A_AAAGGTATCGGTCACG_A_pos 2                             \n",
       "A_AAAGGTATCTCGCAGG_A_pos 5                             \n",
       "                         seurat_clusters_resolution_1\n",
       "A_AAACGCTTCACTTGTT_A_pos 4                           \n",
       "A_AAAGGATCAATGCAGG_A_pos 9                           \n",
       "A_AAAGGATGTGCGAGTA_A_pos 4                           \n",
       "A_AAAGGATTCACTGATG_A_pos 2                           \n",
       "A_AAAGGGCCACCCTCTA_A_pos 7                           \n",
       "A_AAAGGTAGTCGCATCG_A_pos 5                           \n",
       "A_AAAGGTATCATTGTGG_A_pos 4                           \n",
       "A_AAAGGTATCCGAGGCT_A_pos 8                           \n",
       "A_AAAGGTATCGGTCACG_A_pos 8                           \n",
       "A_AAAGGTATCTCGCAGG_A_pos 5                           "
      ]
     },
     "metadata": {},
     "output_type": "display_data"
    }
   ],
   "source": [
    "head(postTrans_data)"
   ]
  }
 ],
 "metadata": {
  "kernelspec": {
   "display_name": "R",
   "language": "R",
   "name": "ir"
  },
  "language_info": {
   "codemirror_mode": "r",
   "file_extension": ".r",
   "mimetype": "text/x-r-source",
   "name": "R",
   "pygments_lexer": "r",
   "version": "4.4.1"
  }
 },
 "nbformat": 4,
 "nbformat_minor": 2
}
