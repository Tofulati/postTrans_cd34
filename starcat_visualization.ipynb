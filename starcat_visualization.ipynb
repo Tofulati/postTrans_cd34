{
 "cells": [
  {
   "cell_type": "code",
   "execution_count": null,
   "metadata": {},
   "outputs": [],
   "source": [
    "import pandas as pd\n",
    "import scanpy as sc\n",
    "import numpy as np\n",
    "import matplotlib.pyplot as plt\n",
    "import scipy.sparse as sparse\n",
    "from scipy.stats import pearsonr\n",
    "\n",
    "from scipy.cluster.hierarchy import linkage\n",
    "import scipy.spatial.distance as ssd\n",
    "\n",
    "import seaborn as sns\n",
    "import sys\n",
    "from scipy.sparse import hstack, csr_matrix\n",
    "from sklearn.feature_selection import mutual_info_classif\n",
    "import os\n",
    "# from cnmf import cNMF, save_df_to_npz, load_df_from_npz\n",
    "import harmonypy\n",
    "from adjustText import adjust_text\n",
    "\n",
    "from matplotlib.patches import Patch\n",
    "from matplotlib.cm import ScalarMappable\n",
    "from matplotlib.colors import Normalize\n",
    "from matplotlib.patches import Rectangle\n",
    "from matplotlib.pyplot import rc_context"
   ]
  }
 ],
 "metadata": {
  "kernelspec": {
   "display_name": "r_env",
   "language": "python",
   "name": "python3"
  },
  "language_info": {
   "name": "python",
   "version": "3.13.0"
  }
 },
 "nbformat": 4,
 "nbformat_minor": 2
}
